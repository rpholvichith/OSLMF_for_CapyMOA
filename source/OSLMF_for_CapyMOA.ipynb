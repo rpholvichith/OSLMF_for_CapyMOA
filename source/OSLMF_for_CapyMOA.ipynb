{
 "cells": [
  {
   "cell_type": "code",
   "execution_count": null,
   "metadata": {},
   "outputs": [],
   "source": [
    "from capymoa.datasets import Electricity\n",
    "from capymoa.evaluation import ClassificationEvaluator\n",
    "from capymoa.classifier import OnlineBagging\n",
    "\n",
    "elec_stream = Electricity()                                                     # Data Stream\n",
    "ob_learner = OnlineBagging(schema=elec_stream.get_schema(), ensemble_size=5)    # Learner\n",
    "ob_evaluator = ClassificationEvaluator(schema=elec_stream.get_schema())         # Evaluator\n",
    "\n",
    "while elec_stream.has_more_instances():\n",
    "    # 1.Fetches the next instance from the stream\n",
    "    instance = elec_stream.next_instance()\n",
    "    # 2.Makes a prediction\n",
    "    prediction = ob_learner.predict(instance)\n",
    "    # 3.Train the model with the instance\n",
    "    ob_learner.train(instance)\n",
    "    # 4.Update a mechanism to keep track of metrics\n",
    "    ob_evaluator.update(instance.y_index, prediction)\n",
    "\n",
    "print(ob_evaluator.accuracy())"
   ]
  }
 ],
 "metadata": {
  "kernelspec": {
   "display_name": "bigdata",
   "language": "python",
   "name": "python3"
  },
  "language_info": {
   "name": "python",
   "version": "3.12.7"
  }
 },
 "nbformat": 4,
 "nbformat_minor": 2
}
